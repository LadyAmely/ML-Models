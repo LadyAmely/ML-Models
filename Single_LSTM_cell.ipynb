{
  "nbformat": 4,
  "nbformat_minor": 0,
  "metadata": {
    "colab": {
      "provenance": []
    },
    "kernelspec": {
      "name": "python3",
      "display_name": "Python 3"
    },
    "language_info": {
      "name": "python"
    }
  },
  "cells": [
    {
      "cell_type": "code",
      "execution_count": 1,
      "metadata": {
        "id": "W7uPndWg6WE2"
      },
      "outputs": [],
      "source": [
        "import numpy as np"
      ]
    },
    {
      "cell_type": "code",
      "source": [
        "\n",
        "class LSTMCell:\n",
        "    def __init__(self, input_size, hidden_size):\n",
        "        self.input_size = input_size\n",
        "        self.hidden_size = hidden_size\n",
        "\n",
        "        self.W_i = np.random.randn(hidden_size, input_size)\n",
        "        self.U_i = np.random.randn(hidden_size, hidden_size)\n",
        "        self.b_i = np.zeros((hidden_size, 1))\n",
        "\n",
        "        self.W_f = np.random.randn(hidden_size, input_size)\n",
        "        self.U_f = np.random.randn(hidden_size, hidden_size)\n",
        "        self.b_f = np.zeros((hidden_size, 1))\n",
        "\n",
        "        self.W_u = np.random.randn(hidden_size, input_size)\n",
        "        self.U_u = np.random.randn(hidden_size, hidden_size)\n",
        "        self.b_u = np.zeros((hidden_size, 1))\n",
        "\n",
        "        self.W_o = np.random.randn(hidden_size, input_size)\n",
        "        self.U_o = np.random.randn(hidden_size, hidden_size)\n",
        "        self.b_o = np.zeros((hidden_size, 1))\n",
        "\n",
        "    def sigmoid(self, x):\n",
        "        return 1 / (1 + np.exp(-x))\n",
        "\n",
        "    def forward(self, x, h_prev, c_prev):\n",
        "\n",
        "      input_gate = self.sigmoid(np.dot(self.W_i, x) + np.dot(self.U_i, h_prev) + self.b_i)\n",
        "      forget_gate = self.sigmoid(np.dot(self.W_f, x) + np.dot(self.U_f, h_prev) + self.b_f)\n",
        "      output_gate = self.sigmoid(np.dot(self.W_o, x) + np.dot(self.U_o, h_prev) + self.b_o)\n",
        "      u = np.tanh(np.dot(self.W_u, x) + np.dot(self.U_u, h_prev) + self.b_u)\n",
        "      cell_state = input_gate * u + forget_gate * c_prev\n",
        "      hidden_state = output_gate * np.tanh(cell_state)\n",
        "\n",
        "      return hidden_state, cell_state"
      ],
      "metadata": {
        "id": "cmdyXKahC_0J"
      },
      "execution_count": 23,
      "outputs": []
    }
  ]
}