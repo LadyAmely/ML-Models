{
  "nbformat": 4,
  "nbformat_minor": 0,
  "metadata": {
    "colab": {
      "provenance": []
    },
    "kernelspec": {
      "name": "python3",
      "display_name": "Python 3"
    },
    "language_info": {
      "name": "python"
    }
  },
  "cells": [
    {
      "cell_type": "code",
      "execution_count": 47,
      "metadata": {
        "id": "o5JVrucu5lH_"
      },
      "outputs": [],
      "source": [
        "import numpy as np"
      ]
    },
    {
      "cell_type": "markdown",
      "source": [
        "McCulloch-Pitts Model of Neuron"
      ],
      "metadata": {
        "id": "66q3Cg92XVow"
      }
    },
    {
      "cell_type": "code",
      "source": [
        "class McCullochPittsNeuron:\n",
        "  def __init__(self, weights, inputs, treshold, bias=0):\n",
        "    self.weights = weights\n",
        "    self.inputs = inputs\n",
        "    self.treshold = treshold\n",
        "    self.bias = bias\n",
        "\n",
        "  def activation(self):\n",
        "    activations = []\n",
        "    for input in self.inputs:\n",
        "      y = 0\n",
        "      for i in range(len(input)):\n",
        "        y += input[i] * self.weights[i] + self.bias\n",
        "      if y >= self.treshold:\n",
        "        activations.append(1)\n",
        "      else:\n",
        "        activations.append(0)\n",
        "    return activations\n"
      ],
      "metadata": {
        "id": "2_N_Z46sY_yh"
      },
      "execution_count": 85,
      "outputs": []
    },
    {
      "cell_type": "code",
      "source": [
        "inputs = np.array([\n",
        "    [0,1],\n",
        "    [0,1],\n",
        "    [0,0],\n",
        "    [1,1]\n",
        "])\n",
        "weights = np.array([1,1])\n",
        "treshold = 2\n",
        "\n",
        "mcculloch_pitts_neuron = McCullochPittsNeuron(weights, inputs, treshold)\n",
        "\n",
        "activations = mcculloch_pitts_neuron.activation()\n",
        "activations"
      ],
      "metadata": {
        "colab": {
          "base_uri": "https://localhost:8080/"
        },
        "id": "iU3uhza086PE",
        "outputId": "fcb277ba-c495-4f97-9cbd-cc20c35d2156"
      },
      "execution_count": 86,
      "outputs": [
        {
          "output_type": "execute_result",
          "data": {
            "text/plain": [
              "[0, 0, 0, 1]"
            ]
          },
          "metadata": {},
          "execution_count": 86
        }
      ]
    }
  ]
}