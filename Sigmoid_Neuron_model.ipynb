{
  "nbformat": 4,
  "nbformat_minor": 0,
  "metadata": {
    "colab": {
      "provenance": []
    },
    "kernelspec": {
      "name": "python3",
      "display_name": "Python 3"
    },
    "language_info": {
      "name": "python"
    }
  },
  "cells": [
    {
      "cell_type": "code",
      "source": [
        "import numpy as np\n",
        "import pandas as pd\n",
        "from sklearn.model_selection import train_test_split\n",
        "from sklearn.metrics import accuracy_score, mean_squared_error, mean_absolute_error\n",
        "from sklearn.preprocessing import StandardScaler"
      ],
      "metadata": {
        "id": "qmLbZi434cDb"
      },
      "execution_count": 8,
      "outputs": []
    },
    {
      "cell_type": "code",
      "source": [
        "class SigmoidNeuron:\n",
        "\n",
        "    def __init__(self, input_dim):\n",
        "        self.weight = np.random.randn(input_dim, 1)\n",
        "        self.bias = np.random.randn(1)\n",
        "\n",
        "    def sigmoid(self, x):\n",
        "        return 1 / (1 + np.exp(-x))\n",
        "\n",
        "    def forward(self, input):\n",
        "        return self.sigmoid(np.dot(input, self.weight) + self.bias)\n",
        "\n",
        "    def predict(self, X):\n",
        "        y_pred = []\n",
        "        for x in X:\n",
        "            y_pred.append(self.forward(x))\n",
        "        return np.array(y_pred).flatten()\n",
        "\n",
        "    def fit(self, X, y, epochs, learning_rate):\n",
        "        y = y.reshape(-1, 1)\n",
        "        for epoch in range(epochs):\n",
        "            y_pred = self.predict(X).reshape(-1, 1)\n",
        "            error = y - y_pred\n",
        "            gradient = y_pred * (1 - y_pred)\n",
        "            self.weight += learning_rate * np.dot(X.T, error * gradient)\n",
        "            self.bias += learning_rate * np.sum(error * gradient)\n",
        "            loss = np.mean(np.square(error))\n",
        "            print(f\"Epoch {epoch+1}/{epochs}: Loss = {loss}\")"
      ],
      "metadata": {
        "id": "TqEPSX3C4xqU"
      },
      "execution_count": 9,
      "outputs": []
    },
    {
      "cell_type": "code",
      "source": [
        "from sklearn.datasets import load_iris"
      ],
      "metadata": {
        "id": "AN6-x2LdASGa"
      },
      "execution_count": 45,
      "outputs": []
    },
    {
      "cell_type": "code",
      "source": [
        "iris = load_iris()"
      ],
      "metadata": {
        "id": "aKcmNquAAT_C"
      },
      "execution_count": 59,
      "outputs": []
    },
    {
      "cell_type": "code",
      "source": [
        "X = iris.data\n",
        "y = (iris.target == 0).astype(int)"
      ],
      "metadata": {
        "id": "D1snrzXIC78p"
      },
      "execution_count": 67,
      "outputs": []
    },
    {
      "cell_type": "code",
      "source": [
        "\n",
        "X_train, X_test, y_train, y_test = train_test_split(X, y, test_size=0.2, random_state=42)"
      ],
      "metadata": {
        "id": "gcDRI02V5MAI"
      },
      "execution_count": 68,
      "outputs": []
    },
    {
      "cell_type": "code",
      "source": [
        "scaler = StandardScaler()\n",
        "X_scaled_train = scaler.fit_transform(X_train)\n",
        "X_scaled_test = scaler.transform(X_test)"
      ],
      "metadata": {
        "id": "Tb-SNar55dvX"
      },
      "execution_count": 69,
      "outputs": []
    },
    {
      "cell_type": "code",
      "source": [
        "model = SigmoidNeuron(input_dim=X_scaled_train.shape[1])"
      ],
      "metadata": {
        "id": "Is669rFT5kaA"
      },
      "execution_count": 70,
      "outputs": []
    },
    {
      "cell_type": "code",
      "source": [
        "model.fit(X_scaled_train, y_train, epochs=50, learning_rate=0.01)"
      ],
      "metadata": {
        "colab": {
          "base_uri": "https://localhost:8080/"
        },
        "id": "O8quP8iu5oHa",
        "outputId": "00db8a2c-f974-4f01-cc94-fe9a84834ca8"
      },
      "execution_count": 71,
      "outputs": [
        {
          "output_type": "stream",
          "name": "stdout",
          "text": [
            "Epoch 1/50: Loss = 0.09617909907242159\n",
            "Epoch 2/50: Loss = 0.08913871146488082\n",
            "Epoch 3/50: Loss = 0.08278758183345139\n",
            "Epoch 4/50: Loss = 0.0770343503247404\n",
            "Epoch 5/50: Loss = 0.07180506966144991\n",
            "Epoch 6/50: Loss = 0.06703917729609228\n",
            "Epoch 7/50: Loss = 0.06268640761121351\n",
            "Epoch 8/50: Loss = 0.05870443012982841\n",
            "Epoch 9/50: Loss = 0.05505705261439132\n",
            "Epoch 10/50: Loss = 0.05171286554299492\n",
            "Epoch 11/50: Loss = 0.04864423068807637\n",
            "Epoch 12/50: Loss = 0.045826535339473236\n",
            "Epoch 13/50: Loss = 0.0432376481412544\n",
            "Epoch 14/50: Loss = 0.040857524462736314\n",
            "Epoch 15/50: Loss = 0.03866791965969717\n",
            "Epoch 16/50: Loss = 0.03665217782422128\n",
            "Epoch 17/50: Loss = 0.034795071669037135\n",
            "Epoch 18/50: Loss = 0.03308267595632812\n",
            "Epoch 19/50: Loss = 0.03150226232183399\n",
            "Epoch 20/50: Loss = 0.030042207517653564\n",
            "Epoch 21/50: Loss = 0.02869191014186249\n",
            "Epoch 22/50: Loss = 0.02744171303126369\n",
            "Epoch 23/50: Loss = 0.026282829871112332\n",
            "Epoch 24/50: Loss = 0.02520727541506\n",
            "Epoch 25/50: Loss = 0.024207799173307155\n",
            "Epoch 26/50: Loss = 0.02327782264576064\n",
            "Epoch 27/50: Loss = 0.022411380245028346\n",
            "Epoch 28/50: Loss = 0.021603064037800455\n",
            "Epoch 29/50: Loss = 0.02084797237640931\n",
            "Epoch 30/50: Loss = 0.02014166242229112\n",
            "Epoch 31/50: Loss = 0.019480106495217052\n",
            "Epoch 32/50: Loss = 0.01885965212434106\n",
            "Epoch 33/50: Loss = 0.01827698563233714\n",
            "Epoch 34/50: Loss = 0.01772909905236774\n",
            "Epoch 35/50: Loss = 0.017213260158057797\n",
            "Epoch 36/50: Loss = 0.016726985377116685\n",
            "Epoch 37/50: Loss = 0.016268015357677124\n",
            "Epoch 38/50: Loss = 0.01583429296084834\n",
            "Epoch 39/50: Loss = 0.015423943461704174\n",
            "Epoch 40/50: Loss = 0.015035256752530724\n",
            "Epoch 41/50: Loss = 0.014666671355517887\n",
            "Epoch 42/50: Loss = 0.014316760066328687\n",
            "Epoch 43/50: Loss = 0.013984217064476298\n",
            "Epoch 44/50: Loss = 0.013667846340718692\n",
            "Epoch 45/50: Loss = 0.013366551305426964\n",
            "Epoch 46/50: Loss = 0.013079325454888798\n",
            "Epoch 47/50: Loss = 0.012805243984652492\n",
            "Epoch 48/50: Loss = 0.012543456250238253\n",
            "Epoch 49/50: Loss = 0.01229317898582902\n",
            "Epoch 50/50: Loss = 0.012053690200918317\n"
          ]
        }
      ]
    },
    {
      "cell_type": "code",
      "source": [
        "\n",
        "y_pred_train = model.predict(X_scaled_train).reshape(-1, 1)\n",
        "y_pred_test = model.predict(X_scaled_test).reshape(-1, 1)\n",
        "\n",
        "from sklearn.metrics import r2_score\n",
        "print(f\"Train R2: {r2_score(y_train, y_pred_train)}\")\n",
        "print(f\"Test R2: {r2_score(y_test, y_pred_test)}\")\n",
        "print(f\"Train MSE: {mean_squared_error(y_train, y_pred_train)}\")\n",
        "print(f\"Test MSE: {mean_squared_error(y_test, y_pred_test)}\")\n",
        "print(f\"Train MAE: {mean_absolute_error(y_train, y_pred_train)}\")\n",
        "print(f\"Test MAE: {mean_absolute_error(y_test, y_pred_test)}\")\n"
      ],
      "metadata": {
        "colab": {
          "base_uri": "https://localhost:8080/"
        },
        "id": "yu0cGXXL2CRN",
        "outputId": "9ba2758c-b051-4228-8cde-cb779eaa4dc5"
      },
      "execution_count": 72,
      "outputs": [
        {
          "output_type": "stream",
          "name": "stdout",
          "text": [
            "Train R2: 0.9467905434248123\n",
            "Test R2: 0.9652248720041509\n",
            "Train MSE: 0.011824323683375059\n",
            "Test MSE: 0.007727806221299801\n",
            "Train MAE: 0.07605865905351356\n",
            "Test MAE: 0.06684068160089857\n"
          ]
        }
      ]
    }
  ]
}